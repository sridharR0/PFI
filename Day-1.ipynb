{
 "cells": [
  {
   "cell_type": "code",
   "execution_count": 4,
   "id": "6c7afc89",
   "metadata": {},
   "outputs": [
    {
     "name": "stdout",
     "output_type": "stream",
     "text": [
      "hello world!\n"
     ]
    }
   ],
   "source": [
    "print('hello world!')\n",
    "import pandas as pd\n",
    "import numpy as np"
   ]
  },
  {
   "cell_type": "code",
   "execution_count": 5,
   "id": "7f4c54d2",
   "metadata": {},
   "outputs": [
    {
     "name": "stdout",
     "output_type": "stream",
     "text": [
      "sridhar\n"
     ]
    },
    {
     "data": {
      "text/plain": [
       "str"
      ]
     },
     "execution_count": 5,
     "metadata": {},
     "output_type": "execute_result"
    }
   ],
   "source": [
    "my_string = 'sridhar'\n",
    "print(my_string)\n",
    "type(my_string)"
   ]
  },
  {
   "cell_type": "code",
   "execution_count": 6,
   "id": "e3a09234",
   "metadata": {},
   "outputs": [
    {
     "name": "stdout",
     "output_type": "stream",
     "text": [
      "the amount monehy i havve in stock is:100000\n"
     ]
    }
   ],
   "source": [
    "no_of_shares = 1000\n",
    "prie= 100\n",
    "print('the amount monehy i havve in stock is:'+str(no_of_shares * prie))\n"
   ]
  },
  {
   "cell_type": "code",
   "execution_count": 7,
   "id": "073fa886",
   "metadata": {},
   "outputs": [
    {
     "name": "stdout",
     "output_type": "stream",
     "text": [
      "<class 'list'>\n",
      "1\n",
      "2\n",
      "3\n",
      "4\n",
      "5\n",
      "6\n",
      "7\n",
      "8\n"
     ]
    }
   ],
   "source": [
    "#for loop \n",
    "values=[1,2,3,4,5,6,7,8,9,10]\n",
    "print(type(values))\n",
    "for i in values:\n",
    "    print(i)\n",
    "    if i == 8:\n",
    "        break\n"
   ]
  },
  {
   "cell_type": "code",
   "execution_count": 8,
   "id": "dbc945ff",
   "metadata": {},
   "outputs": [
    {
     "name": "stdout",
     "output_type": "stream",
     "text": [
      "a is greater than b\n"
     ]
    }
   ],
   "source": [
    "a=1\n",
    "b=0.5\n",
    "\n",
    "if a>b:\n",
    "    print('a is greater than b')\n",
    "elif b>a:\n",
    "    print('b is greater than a')\n",
    "else:\n",
    "    print('a is  equal to b')"
   ]
  },
  {
   "cell_type": "code",
   "execution_count": 9,
   "id": "eef3b13f",
   "metadata": {},
   "outputs": [
    {
     "name": "stdout",
     "output_type": "stream",
     "text": [
      "6\n",
      "7\n",
      "8\n",
      "9\n",
      "10\n"
     ]
    }
   ],
   "source": [
    "for i in values:\n",
    "    if i > 5:\n",
    "        print(i)\n"
   ]
  },
  {
   "cell_type": "code",
   "execution_count": 10,
   "id": "e6ca1d33",
   "metadata": {},
   "outputs": [
    {
     "name": "stdout",
     "output_type": "stream",
     "text": [
      "Requirement already satisfied: yFinance in c:\\users\\sridh\\anaconda3\\lib\\site-packages (0.2.55)\n",
      "Requirement already satisfied: pandas>=1.3.0 in c:\\users\\sridh\\anaconda3\\lib\\site-packages (from yFinance) (2.2.2)\n",
      "Requirement already satisfied: numpy>=1.16.5 in c:\\users\\sridh\\anaconda3\\lib\\site-packages (from yFinance) (1.26.4)\n",
      "Requirement already satisfied: requests>=2.31 in c:\\users\\sridh\\anaconda3\\lib\\site-packages (from yFinance) (2.32.2)\n",
      "Requirement already satisfied: multitasking>=0.0.7 in c:\\users\\sridh\\anaconda3\\lib\\site-packages (from yFinance) (0.0.11)\n",
      "Requirement already satisfied: platformdirs>=2.0.0 in c:\\users\\sridh\\anaconda3\\lib\\site-packages (from yFinance) (3.10.0)\n",
      "Requirement already satisfied: pytz>=2022.5 in c:\\users\\sridh\\anaconda3\\lib\\site-packages (from yFinance) (2024.1)\n",
      "Requirement already satisfied: frozendict>=2.3.4 in c:\\users\\sridh\\anaconda3\\lib\\site-packages (from yFinance) (2.4.2)\n",
      "Requirement already satisfied: peewee>=3.16.2 in c:\\users\\sridh\\anaconda3\\lib\\site-packages (from yFinance) (3.17.9)\n",
      "Requirement already satisfied: beautifulsoup4>=4.11.1 in c:\\users\\sridh\\anaconda3\\lib\\site-packages (from yFinance) (4.12.3)\n",
      "Requirement already satisfied: soupsieve>1.2 in c:\\users\\sridh\\anaconda3\\lib\\site-packages (from beautifulsoup4>=4.11.1->yFinance) (2.5)\n",
      "Requirement already satisfied: python-dateutil>=2.8.2 in c:\\users\\sridh\\anaconda3\\lib\\site-packages (from pandas>=1.3.0->yFinance) (2.9.0.post0)\n",
      "Requirement already satisfied: tzdata>=2022.7 in c:\\users\\sridh\\anaconda3\\lib\\site-packages (from pandas>=1.3.0->yFinance) (2023.3)\n",
      "Requirement already satisfied: charset-normalizer<4,>=2 in c:\\users\\sridh\\anaconda3\\lib\\site-packages (from requests>=2.31->yFinance) (2.0.4)\n",
      "Requirement already satisfied: idna<4,>=2.5 in c:\\users\\sridh\\anaconda3\\lib\\site-packages (from requests>=2.31->yFinance) (3.7)\n",
      "Requirement already satisfied: urllib3<3,>=1.21.1 in c:\\users\\sridh\\anaconda3\\lib\\site-packages (from requests>=2.31->yFinance) (2.2.2)\n",
      "Requirement already satisfied: certifi>=2017.4.17 in c:\\users\\sridh\\anaconda3\\lib\\site-packages (from requests>=2.31->yFinance) (2024.7.4)\n",
      "Requirement already satisfied: six>=1.5 in c:\\users\\sridh\\anaconda3\\lib\\site-packages (from python-dateutil>=2.8.2->pandas>=1.3.0->yFinance) (1.16.0)\n"
     ]
    }
   ],
   "source": [
    "! pip install yFinance\n",
    "import yfinance as yf\n",
    "import datetime as dt  \n",
    "\n"
   ]
  },
  {
   "cell_type": "code",
   "execution_count": 11,
   "id": "e1c59eb2",
   "metadata": {},
   "outputs": [
    {
     "name": "stdout",
     "output_type": "stream",
     "text": [
      "Requirement already satisfied: data in c:\\users\\sridh\\anaconda3\\lib\\site-packages (0.4)\n",
      "Requirement already satisfied: six in c:\\users\\sridh\\anaconda3\\lib\\site-packages (from data) (1.16.0)\n",
      "Requirement already satisfied: decorator in c:\\users\\sridh\\anaconda3\\lib\\site-packages (from data) (5.1.1)\n",
      "Requirement already satisfied: funcsigs in c:\\users\\sridh\\anaconda3\\lib\\site-packages (from data) (1.0.2)\n"
     ]
    }
   ],
   "source": [
    "! pip install data"
   ]
  },
  {
   "cell_type": "code",
   "execution_count": 12,
   "id": "6eac1910",
   "metadata": {},
   "outputs": [
    {
     "name": "stdout",
     "output_type": "stream",
     "text": [
      "Requirement already satisfied: pandas_datareader in c:\\users\\sridh\\anaconda3\\lib\\site-packages (0.10.0)\n",
      "Requirement already satisfied: lxml in c:\\users\\sridh\\anaconda3\\lib\\site-packages (from pandas_datareader) (5.2.1)\n",
      "Requirement already satisfied: pandas>=0.23 in c:\\users\\sridh\\anaconda3\\lib\\site-packages (from pandas_datareader) (2.2.2)\n",
      "Requirement already satisfied: requests>=2.19.0 in c:\\users\\sridh\\anaconda3\\lib\\site-packages (from pandas_datareader) (2.32.2)\n",
      "Requirement already satisfied: numpy>=1.26.0 in c:\\users\\sridh\\anaconda3\\lib\\site-packages (from pandas>=0.23->pandas_datareader) (1.26.4)\n",
      "Requirement already satisfied: python-dateutil>=2.8.2 in c:\\users\\sridh\\anaconda3\\lib\\site-packages (from pandas>=0.23->pandas_datareader) (2.9.0.post0)\n",
      "Requirement already satisfied: pytz>=2020.1 in c:\\users\\sridh\\anaconda3\\lib\\site-packages (from pandas>=0.23->pandas_datareader) (2024.1)\n",
      "Requirement already satisfied: tzdata>=2022.7 in c:\\users\\sridh\\anaconda3\\lib\\site-packages (from pandas>=0.23->pandas_datareader) (2023.3)\n",
      "Requirement already satisfied: charset-normalizer<4,>=2 in c:\\users\\sridh\\anaconda3\\lib\\site-packages (from requests>=2.19.0->pandas_datareader) (2.0.4)\n",
      "Requirement already satisfied: idna<4,>=2.5 in c:\\users\\sridh\\anaconda3\\lib\\site-packages (from requests>=2.19.0->pandas_datareader) (3.7)\n",
      "Requirement already satisfied: urllib3<3,>=1.21.1 in c:\\users\\sridh\\anaconda3\\lib\\site-packages (from requests>=2.19.0->pandas_datareader) (2.2.2)\n",
      "Requirement already satisfied: certifi>=2017.4.17 in c:\\users\\sridh\\anaconda3\\lib\\site-packages (from requests>=2.19.0->pandas_datareader) (2024.7.4)\n",
      "Requirement already satisfied: six>=1.5 in c:\\users\\sridh\\anaconda3\\lib\\site-packages (from python-dateutil>=2.8.2->pandas>=0.23->pandas_datareader) (1.16.0)\n"
     ]
    }
   ],
   "source": [
    "import numpy as np\n",
    "import pandas as pd\n",
    "! pip install pandas_datareader"
   ]
  },
  {
   "cell_type": "code",
   "execution_count": 13,
   "id": "4ae665d8",
   "metadata": {},
   "outputs": [],
   "source": [
    "from pandas_datareader import data as pdr\n",
    "import pandas as pd"
   ]
  },
  {
   "cell_type": "code",
   "execution_count": 14,
   "id": "e093a354",
   "metadata": {},
   "outputs": [
    {
     "data": {
      "text/plain": [
       "(datetime.datetime(2025, 4, 6, 23, 38, 11, 480278),\n",
       " datetime.datetime(2020, 4, 7, 23, 38, 11, 480278))"
      ]
     },
     "execution_count": 14,
     "metadata": {},
     "output_type": "execute_result"
    }
   ],
   "source": [
    "#date range setup\n",
    "end = dt.datetime.now()\n",
    "start = end - dt.timedelta(days=365*5) # 5 years of data\n",
    "end, start\n",
    "#fetching data from yfinance"
   ]
  },
  {
   "cell_type": "code",
   "execution_count": 15,
   "id": "637e431f",
   "metadata": {},
   "outputs": [],
   "source": [
    "stocks =['SPY', 'MSFT', 'GOOGL']"
   ]
  },
  {
   "cell_type": "code",
   "execution_count": 16,
   "id": "4071c480",
   "metadata": {},
   "outputs": [
    {
     "name": "stdout",
     "output_type": "stream",
     "text": [
      "YF.download() has changed argument auto_adjust default to True\n"
     ]
    },
    {
     "name": "stderr",
     "output_type": "stream",
     "text": [
      "[*********************100%***********************]  3 of 3 completed\n"
     ]
    }
   ],
   "source": [
    "df = yf.download(stocks,start=start, end=end)"
   ]
  },
  {
   "cell_type": "code",
   "execution_count": 17,
   "id": "dcc7e678",
   "metadata": {},
   "outputs": [
    {
     "data": {
      "text/html": [
       "<div>\n",
       "<style scoped>\n",
       "    .dataframe tbody tr th:only-of-type {\n",
       "        vertical-align: middle;\n",
       "    }\n",
       "\n",
       "    .dataframe tbody tr th {\n",
       "        vertical-align: top;\n",
       "    }\n",
       "\n",
       "    .dataframe thead tr th {\n",
       "        text-align: left;\n",
       "    }\n",
       "\n",
       "    .dataframe thead tr:last-of-type th {\n",
       "        text-align: right;\n",
       "    }\n",
       "</style>\n",
       "<table border=\"1\" class=\"dataframe\">\n",
       "  <thead>\n",
       "    <tr>\n",
       "      <th>Price</th>\n",
       "      <th colspan=\"3\" halign=\"left\">Close</th>\n",
       "      <th colspan=\"3\" halign=\"left\">High</th>\n",
       "      <th colspan=\"3\" halign=\"left\">Low</th>\n",
       "      <th colspan=\"3\" halign=\"left\">Open</th>\n",
       "      <th colspan=\"3\" halign=\"left\">Volume</th>\n",
       "    </tr>\n",
       "    <tr>\n",
       "      <th>Ticker</th>\n",
       "      <th>GOOGL</th>\n",
       "      <th>MSFT</th>\n",
       "      <th>SPY</th>\n",
       "      <th>GOOGL</th>\n",
       "      <th>MSFT</th>\n",
       "      <th>SPY</th>\n",
       "      <th>GOOGL</th>\n",
       "      <th>MSFT</th>\n",
       "      <th>SPY</th>\n",
       "      <th>GOOGL</th>\n",
       "      <th>MSFT</th>\n",
       "      <th>SPY</th>\n",
       "      <th>GOOGL</th>\n",
       "      <th>MSFT</th>\n",
       "      <th>SPY</th>\n",
       "    </tr>\n",
       "    <tr>\n",
       "      <th>Date</th>\n",
       "      <th></th>\n",
       "      <th></th>\n",
       "      <th></th>\n",
       "      <th></th>\n",
       "      <th></th>\n",
       "      <th></th>\n",
       "      <th></th>\n",
       "      <th></th>\n",
       "      <th></th>\n",
       "      <th></th>\n",
       "      <th></th>\n",
       "      <th></th>\n",
       "      <th></th>\n",
       "      <th></th>\n",
       "      <th></th>\n",
       "    </tr>\n",
       "  </thead>\n",
       "  <tbody>\n",
       "    <tr>\n",
       "      <th>2025-03-31</th>\n",
       "      <td>154.639999</td>\n",
       "      <td>375.390015</td>\n",
       "      <td>559.390015</td>\n",
       "      <td>155.539993</td>\n",
       "      <td>377.070007</td>\n",
       "      <td>560.710022</td>\n",
       "      <td>150.660004</td>\n",
       "      <td>367.239990</td>\n",
       "      <td>546.869995</td>\n",
       "      <td>153.110001</td>\n",
       "      <td>372.540009</td>\n",
       "      <td>549.830017</td>\n",
       "      <td>54603500</td>\n",
       "      <td>35184700</td>\n",
       "      <td>95328200</td>\n",
       "    </tr>\n",
       "    <tr>\n",
       "      <th>2025-04-01</th>\n",
       "      <td>157.070007</td>\n",
       "      <td>382.190002</td>\n",
       "      <td>560.969971</td>\n",
       "      <td>158.100006</td>\n",
       "      <td>382.850006</td>\n",
       "      <td>562.940002</td>\n",
       "      <td>153.619995</td>\n",
       "      <td>373.230011</td>\n",
       "      <td>553.679993</td>\n",
       "      <td>153.619995</td>\n",
       "      <td>374.649994</td>\n",
       "      <td>557.450012</td>\n",
       "      <td>30672900</td>\n",
       "      <td>19689500</td>\n",
       "      <td>54609600</td>\n",
       "    </tr>\n",
       "    <tr>\n",
       "      <th>2025-04-02</th>\n",
       "      <td>157.039993</td>\n",
       "      <td>382.140015</td>\n",
       "      <td>564.520020</td>\n",
       "      <td>158.410004</td>\n",
       "      <td>385.079987</td>\n",
       "      <td>567.419983</td>\n",
       "      <td>154.699997</td>\n",
       "      <td>376.619995</td>\n",
       "      <td>554.809998</td>\n",
       "      <td>155.149994</td>\n",
       "      <td>377.970001</td>\n",
       "      <td>555.049988</td>\n",
       "      <td>25041700</td>\n",
       "      <td>16092600</td>\n",
       "      <td>76014500</td>\n",
       "    </tr>\n",
       "    <tr>\n",
       "      <th>2025-04-03</th>\n",
       "      <td>150.720001</td>\n",
       "      <td>373.109985</td>\n",
       "      <td>536.700012</td>\n",
       "      <td>152.779999</td>\n",
       "      <td>377.480011</td>\n",
       "      <td>547.969971</td>\n",
       "      <td>150.389999</td>\n",
       "      <td>369.350006</td>\n",
       "      <td>536.700012</td>\n",
       "      <td>151.110001</td>\n",
       "      <td>374.790009</td>\n",
       "      <td>545.109985</td>\n",
       "      <td>46883400</td>\n",
       "      <td>30198000</td>\n",
       "      <td>125986000</td>\n",
       "    </tr>\n",
       "    <tr>\n",
       "      <th>2025-04-04</th>\n",
       "      <td>145.600006</td>\n",
       "      <td>359.839996</td>\n",
       "      <td>505.279999</td>\n",
       "      <td>151.070007</td>\n",
       "      <td>374.589996</td>\n",
       "      <td>525.869995</td>\n",
       "      <td>145.380005</td>\n",
       "      <td>359.480011</td>\n",
       "      <td>505.059998</td>\n",
       "      <td>148.009995</td>\n",
       "      <td>364.130005</td>\n",
       "      <td>523.669983</td>\n",
       "      <td>62138600</td>\n",
       "      <td>49138700</td>\n",
       "      <td>216189500</td>\n",
       "    </tr>\n",
       "  </tbody>\n",
       "</table>\n",
       "</div>"
      ],
      "text/plain": [
       "Price            Close                                High              \\\n",
       "Ticker           GOOGL        MSFT         SPY       GOOGL        MSFT   \n",
       "Date                                                                     \n",
       "2025-03-31  154.639999  375.390015  559.390015  155.539993  377.070007   \n",
       "2025-04-01  157.070007  382.190002  560.969971  158.100006  382.850006   \n",
       "2025-04-02  157.039993  382.140015  564.520020  158.410004  385.079987   \n",
       "2025-04-03  150.720001  373.109985  536.700012  152.779999  377.480011   \n",
       "2025-04-04  145.600006  359.839996  505.279999  151.070007  374.589996   \n",
       "\n",
       "Price                          Low                                Open  \\\n",
       "Ticker             SPY       GOOGL        MSFT         SPY       GOOGL   \n",
       "Date                                                                     \n",
       "2025-03-31  560.710022  150.660004  367.239990  546.869995  153.110001   \n",
       "2025-04-01  562.940002  153.619995  373.230011  553.679993  153.619995   \n",
       "2025-04-02  567.419983  154.699997  376.619995  554.809998  155.149994   \n",
       "2025-04-03  547.969971  150.389999  369.350006  536.700012  151.110001   \n",
       "2025-04-04  525.869995  145.380005  359.480011  505.059998  148.009995   \n",
       "\n",
       "Price                                 Volume                       \n",
       "Ticker            MSFT         SPY     GOOGL      MSFT        SPY  \n",
       "Date                                                               \n",
       "2025-03-31  372.540009  549.830017  54603500  35184700   95328200  \n",
       "2025-04-01  374.649994  557.450012  30672900  19689500   54609600  \n",
       "2025-04-02  377.970001  555.049988  25041700  16092600   76014500  \n",
       "2025-04-03  374.790009  545.109985  46883400  30198000  125986000  \n",
       "2025-04-04  364.130005  523.669983  62138600  49138700  216189500  "
      ]
     },
     "execution_count": 17,
     "metadata": {},
     "output_type": "execute_result"
    }
   ],
   "source": [
    "df.tail (5)"
   ]
  },
  {
   "cell_type": "code",
   "execution_count": 18,
   "id": "b64e1b83",
   "metadata": {},
   "outputs": [
    {
     "data": {
      "text/html": [
       "<div>\n",
       "<style scoped>\n",
       "    .dataframe tbody tr th:only-of-type {\n",
       "        vertical-align: middle;\n",
       "    }\n",
       "\n",
       "    .dataframe tbody tr th {\n",
       "        vertical-align: top;\n",
       "    }\n",
       "\n",
       "    .dataframe thead th {\n",
       "        text-align: right;\n",
       "    }\n",
       "</style>\n",
       "<table border=\"1\" class=\"dataframe\">\n",
       "  <thead>\n",
       "    <tr style=\"text-align: right;\">\n",
       "      <th>Ticker</th>\n",
       "      <th>GOOGL</th>\n",
       "      <th>MSFT</th>\n",
       "      <th>SPY</th>\n",
       "    </tr>\n",
       "    <tr>\n",
       "      <th>Date</th>\n",
       "      <th></th>\n",
       "      <th></th>\n",
       "      <th></th>\n",
       "    </tr>\n",
       "  </thead>\n",
       "  <tbody>\n",
       "    <tr>\n",
       "      <th>2025-03-31</th>\n",
       "      <td>154.639999</td>\n",
       "      <td>375.390015</td>\n",
       "      <td>559.390015</td>\n",
       "    </tr>\n",
       "    <tr>\n",
       "      <th>2025-04-01</th>\n",
       "      <td>157.070007</td>\n",
       "      <td>382.190002</td>\n",
       "      <td>560.969971</td>\n",
       "    </tr>\n",
       "    <tr>\n",
       "      <th>2025-04-02</th>\n",
       "      <td>157.039993</td>\n",
       "      <td>382.140015</td>\n",
       "      <td>564.520020</td>\n",
       "    </tr>\n",
       "    <tr>\n",
       "      <th>2025-04-03</th>\n",
       "      <td>150.720001</td>\n",
       "      <td>373.109985</td>\n",
       "      <td>536.700012</td>\n",
       "    </tr>\n",
       "    <tr>\n",
       "      <th>2025-04-04</th>\n",
       "      <td>145.600006</td>\n",
       "      <td>359.839996</td>\n",
       "      <td>505.279999</td>\n",
       "    </tr>\n",
       "  </tbody>\n",
       "</table>\n",
       "</div>"
      ],
      "text/plain": [
       "Ticker           GOOGL        MSFT         SPY\n",
       "Date                                          \n",
       "2025-03-31  154.639999  375.390015  559.390015\n",
       "2025-04-01  157.070007  382.190002  560.969971\n",
       "2025-04-02  157.039993  382.140015  564.520020\n",
       "2025-04-03  150.720001  373.109985  536.700012\n",
       "2025-04-04  145.600006  359.839996  505.279999"
      ]
     },
     "execution_count": 18,
     "metadata": {},
     "output_type": "execute_result"
    }
   ],
   "source": [
    "close_data = df['Close']\n",
    "close_data.tail(5)"
   ]
  },
  {
   "cell_type": "code",
   "execution_count": 21,
   "id": "ead0b2c0",
   "metadata": {},
   "outputs": [
    {
     "data": {
      "text/html": [
       "<div>\n",
       "<style scoped>\n",
       "    .dataframe tbody tr th:only-of-type {\n",
       "        vertical-align: middle;\n",
       "    }\n",
       "\n",
       "    .dataframe tbody tr th {\n",
       "        vertical-align: top;\n",
       "    }\n",
       "\n",
       "    .dataframe thead th {\n",
       "        text-align: right;\n",
       "    }\n",
       "</style>\n",
       "<table border=\"1\" class=\"dataframe\">\n",
       "  <thead>\n",
       "    <tr style=\"text-align: right;\">\n",
       "      <th>Ticker</th>\n",
       "      <th>GOOGL</th>\n",
       "      <th>MSFT</th>\n",
       "      <th>SPY</th>\n",
       "    </tr>\n",
       "    <tr>\n",
       "      <th>Date</th>\n",
       "      <th></th>\n",
       "      <th></th>\n",
       "      <th></th>\n",
       "    </tr>\n",
       "  </thead>\n",
       "  <tbody>\n",
       "    <tr>\n",
       "      <th>2025-03-31</th>\n",
       "      <td>0.002007</td>\n",
       "      <td>-0.009043</td>\n",
       "      <td>0.006690</td>\n",
       "    </tr>\n",
       "    <tr>\n",
       "      <th>2025-04-01</th>\n",
       "      <td>0.015592</td>\n",
       "      <td>0.017952</td>\n",
       "      <td>0.002820</td>\n",
       "    </tr>\n",
       "    <tr>\n",
       "      <th>2025-04-02</th>\n",
       "      <td>-0.000191</td>\n",
       "      <td>-0.000131</td>\n",
       "      <td>0.006308</td>\n",
       "    </tr>\n",
       "    <tr>\n",
       "      <th>2025-04-03</th>\n",
       "      <td>-0.041077</td>\n",
       "      <td>-0.023914</td>\n",
       "      <td>-0.050537</td>\n",
       "    </tr>\n",
       "    <tr>\n",
       "      <th>2025-04-04</th>\n",
       "      <td>-0.034561</td>\n",
       "      <td>-0.036214</td>\n",
       "      <td>-0.060327</td>\n",
       "    </tr>\n",
       "  </tbody>\n",
       "</table>\n",
       "</div>"
      ],
      "text/plain": [
       "Ticker         GOOGL      MSFT       SPY\n",
       "Date                                    \n",
       "2025-03-31  0.002007 -0.009043  0.006690\n",
       "2025-04-01  0.015592  0.017952  0.002820\n",
       "2025-04-02 -0.000191 -0.000131  0.006308\n",
       "2025-04-03 -0.041077 -0.023914 -0.050537\n",
       "2025-04-04 -0.034561 -0.036214 -0.060327"
      ]
     },
     "execution_count": 21,
     "metadata": {},
     "output_type": "execute_result"
    }
   ],
   "source": [
    "#calculate daily returns\n",
    "import numpy as np\n",
    "log_returns = np. log(close_data/close_data.shift(1))\n",
    "log_returns.head(5)\n",
    "log_returns.tail(5)"
   ]
  },
  {
   "cell_type": "code",
   "execution_count": 22,
   "id": "64bc5126",
   "metadata": {},
   "outputs": [
    {
     "data": {
      "text/html": [
       "<div>\n",
       "<style scoped>\n",
       "    .dataframe tbody tr th:only-of-type {\n",
       "        vertical-align: middle;\n",
       "    }\n",
       "\n",
       "    .dataframe tbody tr th {\n",
       "        vertical-align: top;\n",
       "    }\n",
       "\n",
       "    .dataframe thead th {\n",
       "        text-align: right;\n",
       "    }\n",
       "</style>\n",
       "<table border=\"1\" class=\"dataframe\">\n",
       "  <thead>\n",
       "    <tr style=\"text-align: right;\">\n",
       "      <th>Ticker</th>\n",
       "      <th>GOOGL</th>\n",
       "      <th>MSFT</th>\n",
       "      <th>SPY</th>\n",
       "    </tr>\n",
       "    <tr>\n",
       "      <th>Date</th>\n",
       "      <th></th>\n",
       "      <th></th>\n",
       "      <th></th>\n",
       "    </tr>\n",
       "  </thead>\n",
       "  <tbody>\n",
       "    <tr>\n",
       "      <th>2020-04-08</th>\n",
       "      <td>NaN</td>\n",
       "      <td>NaN</td>\n",
       "      <td>NaN</td>\n",
       "    </tr>\n",
       "    <tr>\n",
       "      <th>2020-04-09</th>\n",
       "      <td>-0.000356</td>\n",
       "      <td>0.000060</td>\n",
       "      <td>0.015103</td>\n",
       "    </tr>\n",
       "    <tr>\n",
       "      <th>2020-04-13</th>\n",
       "      <td>0.002821</td>\n",
       "      <td>0.002298</td>\n",
       "      <td>0.005931</td>\n",
       "    </tr>\n",
       "    <tr>\n",
       "      <th>2020-04-14</th>\n",
       "      <td>0.047116</td>\n",
       "      <td>0.050596</td>\n",
       "      <td>0.034997</td>\n",
       "    </tr>\n",
       "    <tr>\n",
       "      <th>2020-04-15</th>\n",
       "      <td>0.040829</td>\n",
       "      <td>0.040063</td>\n",
       "      <td>0.013520</td>\n",
       "    </tr>\n",
       "  </tbody>\n",
       "</table>\n",
       "</div>"
      ],
      "text/plain": [
       "Ticker         GOOGL      MSFT       SPY\n",
       "Date                                    \n",
       "2020-04-08       NaN       NaN       NaN\n",
       "2020-04-09 -0.000356  0.000060  0.015103\n",
       "2020-04-13  0.002821  0.002298  0.005931\n",
       "2020-04-14  0.047116  0.050596  0.034997\n",
       "2020-04-15  0.040829  0.040063  0.013520"
      ]
     },
     "execution_count": 22,
     "metadata": {},
     "output_type": "execute_result"
    }
   ],
   "source": [
    "#cummulative log returns\n",
    "cumulative_log_returns = log_returns.cumsum()\n",
    "cumulative_log_returns.head(5)"
   ]
  },
  {
   "cell_type": "code",
   "execution_count": 23,
   "id": "96911cd0",
   "metadata": {},
   "outputs": [
    {
     "data": {
      "text/plain": [
       "<Axes: title={'center': 'Cumulative Log Returns'}, xlabel='Date'>"
      ]
     },
     "execution_count": 23,
     "metadata": {},
     "output_type": "execute_result"
    },
    {
     "data": {
      "image/png": "[encoded data removed]",
      "text/plain": [
       "<Figure size 1000x600 with 1 Axes>"
      ]
     },
     "metadata": {},
     "output_type": "display_data"
    }
   ],
   "source": [
    "#plot cummulative log returns\n",
    "import matplotlib.pyplot as plt\n",
    "import seaborn as sns\n",
    "cumulative_log_returns.plot(figsize=(10, 6), title='Cumulative Log Returns', fontsize=14)\n"
   ]
  }
 ],
 "metadata": {
  "kernelspec": {
   "display_name": "base",
   "language": "python",
   "name": "python3"
  },
  "language_info": {
   "codemirror_mode": {
    "name": "ipython",
    "version": 3
   },
   "file_extension": ".py",
   "mimetype": "text/x-python",
   "name": "python",
   "nbconvert_exporter": "python",
   "pygments_lexer": "ipython3",
   "version": "3.12.4"
  }
 },
 "nbformat": 4,
 "nbformat_minor": 5
}
